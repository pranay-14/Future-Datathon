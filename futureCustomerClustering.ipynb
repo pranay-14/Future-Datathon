{
 "cells": [
  {
   "cell_type": "code",
   "execution_count": null,
   "metadata": {
    "collapsed": true
   },
   "outputs": [],
   "source": [
    "import numpy as np\n",
    "import pandas as pd\n",
    "import matplotlib.pyplot as plt\n",
    "%matplotlib inline\n",
    "from sklearn.cluster import KMeans,MiniBatchKMeans\n",
    "from sklearn.metrics import silhouette_score\n",
    "from sklearn.preprocessing import LabelEncoder, RobustScaler\n",
    "from datetime import datetime\n",
    "from sklearn.decomposition import PCA,KernelPCA\n",
    "from sklearn.cluster import AgglomerativeClustering\n",
    "from sklearn.neighbors import kneighbors_graph\n",
    "import seaborn as sns\n",
    "color = sns.color_palette()\n",
    "import warnings\n",
    "warnings.filterwarnings('ignore')"
   ]
  },
  {
   "cell_type": "code",
   "execution_count": null,
   "metadata": {
    "collapsed": true
   },
   "outputs": [],
   "source": [
    "pd.set_option('display.max_rows',100)\n",
    "prods=pd.read_csv('/Users/shashank/Desktop/Clustering/cproducts.csv')\n",
    "tender=pd.read_csv('/Users/shashank/Desktop/Clustering/ctender.csv')"
   ]
  },
  {
   "cell_type": "code",
   "execution_count": null,
   "metadata": {
    "collapsed": true
   },
   "outputs": [],
   "source": [
    "tender.isnull().sum()>0"
   ]
  },
  {
   "cell_type": "code",
   "execution_count": null,
   "metadata": {
    "collapsed": true
   },
   "outputs": [],
   "source": [
    "# To fill missing states from pincode.\n",
    "dic={11:'Delhi',12:'Haryana',13:'Haryana',14:'Punjab',15:'Punjab',16:'Punjab',17:'Himachal Pradesh',\n",
    "    18:'Jammu & Kashmir',19:'Jammu & Kashmir',20:'Uttar Pradesh',21:'Uttar Pradesh',22:'Uttar Pradesh',\n",
    "    23:'Uttar Pradesh',24:'Uttar Pradesh',25:'Uttar Pradesh',26:'Uttar Pradesh',27:'Uttar Pradesh',28:'Uttar Pradesh',\n",
    "    30:'Rajasthan',31:'Rajasthan',32:'Rajasthan',33:'Rajasthan',34:'Rajasthan',36:'Gujarat',37:'Gujarat',38:'Gujarat',\n",
    "    39:'Gujarat',40:'Maharashtra',41:'Maharashtra',42:'Maharashtra',43:'Maharashtra',44:'Maharashtra',45:'Madhya Pradesh',\n",
    "    46:'Madhya Pradesh',47:'Madhya Pradesh',48:'Madhya Pradesh',49:'Madhya Pradesh',50:'Andhra Pradesh',51:'Andhra Pradesh',\n",
    "    52:'Andhra Pradesh',53:'Andhra Pradesh',56:'Karnataka',57:'Karnataka',58:'Karnataka',59:'Karnataka',\n",
    "    60:'Tamil Nadu',61:'Tamil Nadu',62:'Tamil Nadu',63:'Tamil Nadu',64:'Tamil Nadu',67:'Kerala',68:'Kerala',69:'Kerala',\n",
    "    70:'West Bengal',71:'West Bengal',72:'West Bengal',73:'West Bengal',74:'West Bengal',75:'Orissa',76:'Orissa',77:'Orissa',\n",
    "    78:'Assam',79:'North Eastern',80:'Bihar',81:'Bihar',82:'Bihar',83:'Jharkand',84:'Bihar',85:'Bihar',90:'Army',91:'Army',\n",
    "    92:'Army',93:'Army',94:'Army',95:'Army',96:'Army',97:'Army',98:'Army',99:'Army',35:'Madhya Pradesh',1:'Delhi',88:'Jharkhand',\n",
    "    55:'Karnataka',66:'Karnataka',54:\"Karnataka\",65:'Tamil Nadu',10:'Tamil Nadu'}\n",
    "\n",
    "# To fill missing states from store location when pincode is also missing.\n",
    "dic1={'BB-MADURAI-KOCHADAI VILLAGE':'Tamil Nadu','BB-INDORE-TREASURE ISLAND':\"Madhya Pradesh\",\n",
    "     'BB-INDORE-MALHAR MEGA MALL':'Madhya Pradesh','BB-LUDHIANA-FEROZEPUR-MF':'Punjab','BB-JAMSHEDPUR-NH-33':'Jharkand',\n",
    "     'BB-HUBLI-GOKUL ROAD-AKSHAY CEN':'Kanataka','BB-AMRITSAR-TRILIUM MALL':'Punjab'}"
   ]
  },
  {
   "cell_type": "code",
   "execution_count": null,
   "metadata": {
    "collapsed": true
   },
   "outputs": [],
   "source": [
    "#Fill states features\n",
    "zips=(prods['PinCode'].unique())\n",
    "zips=zips[~np.isnan(zips)]\n",
    "\n",
    "prods['State']=prods['PinCode'].apply(lambda x: dic[int(x)/10000] if x in zips else x)\n",
    "tender['State']=tender['PinCode'].apply(lambda x: dic[int(x)/10000] if x in zips else x)\n",
    "\n",
    "states=list(prods['State'].unique())\n",
    "states.remove(np.nan)\n",
    "\n",
    "prods['State']=prods.apply(lambda x: dic1[x['store_description']] if x['State'] not in states else x['State'] ,axis=1)\n",
    "tender['State']=tender.apply(lambda x: dic1[x['store_description']] if x['State'] not in states else x['State'] ,axis=1)\n",
    "\n",
    "# Encode states\n",
    "le=LabelEncoder()\n",
    "prods[\"State\"]=le.fit_transform(prods[\"State\"])\n",
    "tender[\"State\"]=le.fit_transform(tender[\"State\"])\n",
    "\n",
    "prods.drop([\"PinCode\"],axis=1,inplace=True)\n",
    "tender.drop([\"PinCode\"],axis=1,inplace=True)"
   ]
  },
  {
   "cell_type": "code",
   "execution_count": null,
   "metadata": {
    "collapsed": true
   },
   "outputs": [],
   "source": [
    "# Fill missing gender with no_gender and encode.\n",
    "\n",
    "prods['Gender'].fillna('no_gender', inplace=True)\n",
    "tender['Gender'].fillna('no_gender', inplace=True)\n",
    "le=LabelEncoder()\n",
    "prods[\"Gender\"]=le.fit_transform(prods[\"Gender\"])\n",
    "tender[\"Gender\"]=le.fit_transform(tender[\"Gender\"])"
   ]
  },
  {
   "cell_type": "code",
   "execution_count": null,
   "metadata": {
    "collapsed": true
   },
   "outputs": [],
   "source": [
    "# Fill missing DOB with the most relevant date and convert DOB into age\n",
    "\n",
    "prods['DOB']=prods['DOB'].fillna('1983-1-1')\n",
    "prods['DOB']=prods['DOB'].replace(['NANA'],['1983-1-1'])\n",
    "prods['DOB']=prods['DOB'].apply(lambda x: datetime.strptime(x,'%Y-%m-%d').year)\n",
    "prods[\"DOB\"]=2017-prods[\"DOB\"]\n",
    "\n",
    "tender['DOB']=tender['DOB'].fillna('1983-1-1')\n",
    "tender['DOB']=tender['DOB'].replace(['NANA'],['1983-1-1'])\n",
    "tender['DOB']=tender['DOB'].apply(lambda x: datetime.strptime(x,'%Y-%m-%d').year)\n",
    "tender[\"DOB\"]=2017-tender[\"DOB\"]"
   ]
  },
  {
   "cell_type": "code",
   "execution_count": null,
   "metadata": {
    "collapsed": true
   },
   "outputs": [],
   "source": [
    "prods['transactionDate']=prods['transactionDate'].apply(lambda x: datetime.strptime(x,'%Y-%m-%d'))\n",
    "prods['Year']=prods['transactionDate'].apply(lambda x:x.year)\n",
    "prods['Month']=prods['transactionDate'].apply(lambda x:x.month)\n",
    "prods['Weekday']=prods['transactionDate'].apply(lambda x:x.weekday())\n",
    "prods['Day']=prods['transactionDate'].apply(lambda x:x.day)"
   ]
  },
  {
   "cell_type": "code",
   "execution_count": null,
   "metadata": {
    "collapsed": true
   },
   "outputs": [],
   "source": [
    "tender['transactionDate']=tender['transactionDate'].apply(lambda x: datetime.strptime(x,'%Y-%m-%d'))\n",
    "tender['Year']=tender['transactionDate'].apply(lambda x:x.year)\n",
    "tender['Month']=tender['transactionDate'].apply(lambda x:x.month)\n",
    "tender['Weekday']=tender['transactionDate'].apply(lambda x:x.weekday())\n",
    "tender['Day']=tender['transactionDate'].apply(lambda x:x.day)\n",
    "tender[\"date\"]=(tender[\"Year\"]*100)+tender[\"Month\"]\n",
    "tender[\"freq\"]=(tender[\"date\"]*100)+tender[\"Day\"]"
   ]
  },
  {
   "cell_type": "code",
   "execution_count": null,
   "metadata": {
    "collapsed": true
   },
   "outputs": [],
   "source": [
    "le=LabelEncoder()\n",
    "prods[\"discountUsed\"]=le.fit_transform(prods[\"discountUsed\"])"
   ]
  },
  {
   "cell_type": "code",
   "execution_count": null,
   "metadata": {
    "collapsed": true
   },
   "outputs": [],
   "source": [
    "le=LabelEncoder()\n",
    "prods[\"promo_code\"]=le.fit_transform(prods[\"promo_code\"])\n",
    "prods.drop(['promotion_description'],axis=1,inplace=True)"
   ]
  },
  {
   "cell_type": "code",
   "execution_count": null,
   "metadata": {
    "collapsed": true
   },
   "outputs": [],
   "source": [
    "tender.drop(['transactionDate'],axis=1,inplace=True)\n",
    "prods.drop(['transactionDate'],axis=1,inplace=True)"
   ]
  },
  {
   "cell_type": "code",
   "execution_count": null,
   "metadata": {
    "collapsed": true
   },
   "outputs": [],
   "source": [
    "tender.drop(['store_description'],axis=1,inplace=True)\n",
    "prods.drop(['store_description'],axis=1,inplace=True)"
   ]
  },
  {
   "cell_type": "code",
   "execution_count": null,
   "metadata": {
    "collapsed": true
   },
   "outputs": [],
   "source": [
    "tender[\"store_code\"].unique()"
   ]
  },
  {
   "cell_type": "code",
   "execution_count": null,
   "metadata": {
    "collapsed": true
   },
   "outputs": [],
   "source": [
    "prods[\"product_code\"]=prods[\"product_code\"].apply(lambda x: int(str(x)[:6]))\n",
    "prods.drop(['product_description'],axis=1,inplace=True)"
   ]
  },
  {
   "cell_type": "code",
   "execution_count": null,
   "metadata": {
    "collapsed": true
   },
   "outputs": [],
   "source": [
    "# Extract freq,recency and monetary features for each store \n",
    "\n",
    "data=tender[tender[\"store_code\"]==4796]\n",
    "\n",
    "#freq\n",
    "Cust_freq=data[[\"date\",\"customerID\"]].drop_duplicates()\n",
    "\n",
    "Cust_freq_count=Cust_freq.groupby([\"customerID\"])[\"date\"].count().reset_index().sort_values(\"date\", ascending=False)\n",
    "\n",
    "\n",
    "def f(row):\n",
    "    if row[\"date\"] <= 3:\n",
    "        val = 1\n",
    "    elif row[\"date\"] >=4 and row[\"date\"] <= 8:\n",
    "        val = 2\n",
    "    elif row[\"date\"] > 8 and row[\"date\"] <= 11:\n",
    "        val = 3\n",
    "    else :\n",
    "        val = 4\n",
    "    return val\n",
    "Cust_freq_count[\"Freq_Flag\"] = Cust_freq_count.apply(f, axis=1)\n",
    "Cust_freq_count.drop([\"date\"],axis=1,inplace=True)\n",
    "\n",
    "# plt.figure(figsize=(12,8))\n",
    "# sns.countplot(x=\"Freq_Flag\", data=Cust_freq_count, color=color[1])\n",
    "# plt.ylabel(\"Count\", fontsize=12)\n",
    "# plt.xlabel(\"Freq_Flag\", fontsize=12)\n",
    "# plt.xticks(rotation=\"vertical\")\n",
    "# plt.title(\"Frequency of Freq_Flag\", fontsize=15)\n",
    "# plt.show()\n",
    "\n",
    "#recency\n",
    "def f(row):\n",
    "    if row[\"date\"] > 201701:\n",
    "        val = 5\n",
    "    elif row[\"date\"] <= 201701 and row[\"date\"] > 201608:\n",
    "        val = 4\n",
    "    elif row[\"date\"] <= 201608 and row[\"date\"] > 201603:\n",
    "        val = 3\n",
    "    elif row[\"date\"] <= 201603 and row[\"date\"] > 201510:\n",
    "        val = 2\n",
    "    else:\n",
    "        val = 1\n",
    "    return val\n",
    "\n",
    "data[\"Recency_Flag\"] = data.apply(f, axis=1)\n",
    "data_freq = data.groupby(\"customerID\",as_index=False)[\"Recency_Flag\"].max()\n",
    "data=pd.merge(data,data_freq,on=[\"customerID\"],how=\"left\")\n",
    "\n",
    "# plt.figure(figsize=(12,8))\n",
    "# sns.countplot(x=\"Recency_Flag\", data=data_freq, color=color[3])\n",
    "# plt.ylabel(\"Count\", fontsize=12)\n",
    "# plt.xlabel(\"Recency_Flag\", fontsize=12)\n",
    "# plt.xticks(rotation=\"vertical\")\n",
    "# plt.title(\"Frequency of Recency_Flag\", fontsize=15)\n",
    "# plt.show()\n",
    "\n",
    "\n",
    "Cust_monetary = data.groupby([\"customerID\"])[\"payment_amount_by_tender\"].sum().reset_index().sort_values(\"payment_amount_by_tender\", ascending=False)\n",
    "unique_price=Cust_monetary[[\"payment_amount_by_tender\"]].drop_duplicates()\n",
    "unique_price=unique_price[unique_price[\"payment_amount_by_tender\"] > 0]\n",
    "unique_price[\"monetary_Band\"] = pd.qcut(unique_price[\"payment_amount_by_tender\"], 5)\n",
    "unique_price=unique_price[[\"monetary_Band\"]].drop_duplicates()\n",
    "\n",
    "def f(row):\n",
    "    if row[\"payment_amount_by_tender\"] <= 6307:\n",
    "        val = 1\n",
    "    elif row[\"payment_amount_by_tender\"] > 6307 and row[\"payment_amount_by_tender\"] <= 13213:\n",
    "        val = 2\n",
    "    elif row[\"payment_amount_by_tender\"] > 13213 and row[\"payment_amount_by_tender\"] <= 22664:\n",
    "        val = 3\n",
    "    elif row[\"payment_amount_by_tender\"] > 22664 and row[\"payment_amount_by_tender\"] <= 43330:\n",
    "        val = 4\n",
    "    else:\n",
    "        val = 5\n",
    "    return val\n",
    "\n",
    "Cust_monetary[\"Monetary_Flag\"] = Cust_monetary.apply(f, axis=1)\n",
    "\n",
    "cust=pd.merge(Cust_freq_count,Cust_monetary[[\"customerID\",\"Monetary_Flag\"]],on=[\"customerID\"],how=\"left\")\n",
    "data=pd.merge(data,cust,on=[\"customerID\"],how=\"left\")\n",
    "df7=data[[\"customerID\",\"store_code\",\"Monetary_Flag\",\"Freq_Flag\",\"Recency_Flag_y\"]]"
   ]
  },
  {
   "cell_type": "code",
   "execution_count": null,
   "metadata": {
    "collapsed": true
   },
   "outputs": [],
   "source": [
    "# Extract freq,recency and monetary features for each store \n",
    "\n",
    "data=tender[tender[\"store_code\"]==4843]\n",
    "\n",
    "#freq\n",
    "Cust_freq=data[[\"date\",\"customerID\"]].drop_duplicates()\n",
    "\n",
    "Cust_freq_count=Cust_freq.groupby([\"customerID\"])[\"date\"].count().reset_index().sort_values(\"date\", ascending=False)\n",
    "\n",
    "\n",
    "def f(row):\n",
    "    if row[\"date\"] <= 3:\n",
    "        val = 1\n",
    "    elif row[\"date\"] >=4 and row[\"date\"] <= 8:\n",
    "        val = 2\n",
    "    elif row[\"date\"] > 8 and row[\"date\"] <= 11:\n",
    "        val = 3\n",
    "    else :\n",
    "        val = 4\n",
    "    return val\n",
    "Cust_freq_count[\"Freq_Flag\"] = Cust_freq_count.apply(f, axis=1)\n",
    "Cust_freq_count.drop([\"date\"],axis=1,inplace=True)\n",
    "\n",
    "# plt.figure(figsize=(12,8))\n",
    "# sns.countplot(x=\"Freq_Flag\", data=Cust_freq_count, color=color[1])\n",
    "# plt.ylabel(\"Count\", fontsize=12)\n",
    "# plt.xlabel(\"Freq_Flag\", fontsize=12)\n",
    "# plt.xticks(rotation=\"vertical\")\n",
    "# plt.title(\"Frequency of Freq_Flag\", fontsize=15)\n",
    "# plt.show()\n",
    "\n",
    "#recency\n",
    "def f(row):\n",
    "    if row[\"date\"] > 201701:\n",
    "        val = 5\n",
    "    elif row[\"date\"] <= 201701 and row[\"date\"] > 201608:\n",
    "        val = 4\n",
    "    elif row[\"date\"] <= 201608 and row[\"date\"] > 201603:\n",
    "        val = 3\n",
    "    elif row[\"date\"] <= 201603 and row[\"date\"] > 201510:\n",
    "        val = 2\n",
    "    else:\n",
    "        val = 1\n",
    "    return val\n",
    "\n",
    "data[\"Recency_Flag\"] = data.apply(f, axis=1)\n",
    "data_freq = data.groupby(\"customerID\",as_index=False)[\"Recency_Flag\"].max()\n",
    "data=pd.merge(data,data_freq,on=[\"customerID\"],how=\"left\")\n",
    "\n",
    "# plt.figure(figsize=(12,8))\n",
    "# sns.countplot(x=\"Recency_Flag\", data=data_freq, color=color[3])\n",
    "# plt.ylabel(\"Count\", fontsize=12)\n",
    "# plt.xlabel(\"Recency_Flag\", fontsize=12)\n",
    "# plt.xticks(rotation=\"vertical\")\n",
    "# plt.title(\"Frequency of Recency_Flag\", fontsize=15)\n",
    "# plt.show()\n",
    "\n",
    "\n",
    "Cust_monetary = data.groupby([\"customerID\"])[\"payment_amount_by_tender\"].sum().reset_index().sort_values(\"payment_amount_by_tender\", ascending=False)\n",
    "unique_price=Cust_monetary[[\"payment_amount_by_tender\"]].drop_duplicates()\n",
    "unique_price=unique_price[unique_price[\"payment_amount_by_tender\"] > 0]\n",
    "unique_price[\"monetary_Band\"] = pd.qcut(unique_price[\"payment_amount_by_tender\"], 5)\n",
    "unique_price=unique_price[[\"monetary_Band\"]].drop_duplicates()\n",
    "\n",
    "def f(row):\n",
    "    if row[\"payment_amount_by_tender\"] <= 6147:\n",
    "        val = 1\n",
    "    elif row[\"payment_amount_by_tender\"] > 6147 and row[\"payment_amount_by_tender\"] <= 12661:\n",
    "        val = 2\n",
    "    elif row[\"payment_amount_by_tender\"] > 12661 and row[\"payment_amount_by_tender\"] <= 21977:\n",
    "        val = 3\n",
    "    elif row[\"payment_amount_by_tender\"] > 21977 and row[\"payment_amount_by_tender\"] <= 41680:\n",
    "        val = 4\n",
    "    else:\n",
    "        val = 5\n",
    "    return val\n",
    "\n",
    "Cust_monetary[\"Monetary_Flag\"] = Cust_monetary.apply(f, axis=1)\n",
    "\n",
    "cust=pd.merge(Cust_freq_count,Cust_monetary[[\"customerID\",\"Monetary_Flag\"]],on=[\"customerID\"],how=\"left\")\n",
    "data=pd.merge(data,cust,on=[\"customerID\"],how=\"left\")\n",
    "df6=data[[\"customerID\",\"store_code\",\"Monetary_Flag\",\"Freq_Flag\",\"Recency_Flag_y\"]]"
   ]
  },
  {
   "cell_type": "code",
   "execution_count": null,
   "metadata": {
    "collapsed": true
   },
   "outputs": [],
   "source": [
    "# Extract freq,recency and monetary features for each store \n",
    "\n",
    "data=tender[tender[\"store_code\"]==3692]\n",
    "\n",
    "#freq\n",
    "Cust_freq=data[[\"date\",\"customerID\"]].drop_duplicates()\n",
    "\n",
    "Cust_freq_count=Cust_freq.groupby([\"customerID\"])[\"date\"].count().reset_index().sort_values(\"date\", ascending=False)\n",
    "\n",
    "\n",
    "def f(row):\n",
    "    if row[\"date\"] <= 3:\n",
    "        val = 1\n",
    "    elif row[\"date\"] >=4 and row[\"date\"] <= 8:\n",
    "        val = 2\n",
    "    elif row[\"date\"] > 8 and row[\"date\"] <= 11:\n",
    "        val = 3\n",
    "    else :\n",
    "        val = 4\n",
    "    return val\n",
    "Cust_freq_count[\"Freq_Flag\"] = Cust_freq_count.apply(f, axis=1)\n",
    "Cust_freq_count.drop([\"date\"],axis=1,inplace=True)\n",
    "\n",
    "# plt.figure(figsize=(12,8))\n",
    "# sns.countplot(x=\"Freq_Flag\", data=Cust_freq_count, color=color[1])\n",
    "# plt.ylabel(\"Count\", fontsize=12)\n",
    "# plt.xlabel(\"Freq_Flag\", fontsize=12)\n",
    "# plt.xticks(rotation=\"vertical\")\n",
    "# plt.title(\"Frequency of Freq_Flag\", fontsize=15)\n",
    "# plt.show()\n",
    "\n",
    "#recency\n",
    "def f(row):\n",
    "    if row[\"date\"] > 201701:\n",
    "        val = 5\n",
    "    elif row[\"date\"] <= 201701 and row[\"date\"] > 201608:\n",
    "        val = 4\n",
    "    elif row[\"date\"] <= 201608 and row[\"date\"] > 201603:\n",
    "        val = 3\n",
    "    elif row[\"date\"] <= 201603 and row[\"date\"] > 201510:\n",
    "        val = 2\n",
    "    else:\n",
    "        val = 1\n",
    "    return val\n",
    "\n",
    "data[\"Recency_Flag\"] = data.apply(f, axis=1)\n",
    "data_freq = data.groupby(\"customerID\",as_index=False)[\"Recency_Flag\"].max()\n",
    "data=pd.merge(data,data_freq,on=[\"customerID\"],how=\"left\")\n",
    "\n",
    "# plt.figure(figsize=(12,8))\n",
    "# sns.countplot(x=\"Recency_Flag\", data=data_freq, color=color[3])\n",
    "# plt.ylabel(\"Count\", fontsize=12)\n",
    "# plt.xlabel(\"Recency_Flag\", fontsize=12)\n",
    "# plt.xticks(rotation=\"vertical\")\n",
    "# plt.title(\"Frequency of Recency_Flag\", fontsize=15)\n",
    "# plt.show()\n",
    "\n",
    "\n",
    "Cust_monetary = data.groupby([\"customerID\"])[\"payment_amount_by_tender\"].sum().reset_index().sort_values(\"payment_amount_by_tender\", ascending=False)\n",
    "unique_price=Cust_monetary[[\"payment_amount_by_tender\"]].drop_duplicates()\n",
    "unique_price=unique_price[unique_price[\"payment_amount_by_tender\"] > 0]\n",
    "unique_price[\"monetary_Band\"] = pd.qcut(unique_price[\"payment_amount_by_tender\"], 5)\n",
    "unique_price=unique_price[[\"monetary_Band\"]].drop_duplicates()\n",
    "\n",
    "def f(row):\n",
    "    if row[\"payment_amount_by_tender\"] <= 4335:\n",
    "        val = 1\n",
    "    elif row[\"payment_amount_by_tender\"] > 4335 and row[\"payment_amount_by_tender\"] <= 8565:\n",
    "        val = 2\n",
    "    elif row[\"payment_amount_by_tender\"] > 8565 and row[\"payment_amount_by_tender\"] <= 13255:\n",
    "        val = 3\n",
    "    elif row[\"payment_amount_by_tender\"] > 13255 and row[\"payment_amount_by_tender\"] <= 23122:\n",
    "        val = 4\n",
    "    else:\n",
    "        val = 5\n",
    "    return val\n",
    "\n",
    "Cust_monetary[\"Monetary_Flag\"] = Cust_monetary.apply(f, axis=1)\n",
    "\n",
    "cust=pd.merge(Cust_freq_count,Cust_monetary[[\"customerID\",\"Monetary_Flag\"]],on=[\"customerID\"],how=\"left\")\n",
    "data=pd.merge(data,cust,on=[\"customerID\"],how=\"left\")\n",
    "df5=data[[\"customerID\",\"store_code\",\"Monetary_Flag\",\"Freq_Flag\",\"Recency_Flag_y\"]]"
   ]
  },
  {
   "cell_type": "code",
   "execution_count": null,
   "metadata": {
    "collapsed": true
   },
   "outputs": [],
   "source": [
    "# Extract freq,recency and monetary features for each store \n",
    "\n",
    "data=tender[tender[\"store_code\"]==2615]\n",
    "\n",
    "#freq\n",
    "Cust_freq=data[[\"date\",\"customerID\"]].drop_duplicates()\n",
    "\n",
    "Cust_freq_count=Cust_freq.groupby([\"customerID\"])[\"date\"].count().reset_index().sort_values(\"date\", ascending=False)\n",
    "\n",
    "\n",
    "def f(row):\n",
    "    if row[\"date\"] <= 3:\n",
    "        val = 1\n",
    "    elif row[\"date\"] >=4 and row[\"date\"] <= 8:\n",
    "        val = 2\n",
    "    elif row[\"date\"] > 8 and row[\"date\"] <= 11:\n",
    "        val = 3\n",
    "    else :\n",
    "        val = 4\n",
    "    return val\n",
    "Cust_freq_count[\"Freq_Flag\"] = Cust_freq_count.apply(f, axis=1)\n",
    "Cust_freq_count.drop([\"date\"],axis=1,inplace=True)\n",
    "\n",
    "# plt.figure(figsize=(12,8))\n",
    "# sns.countplot(x=\"Freq_Flag\", data=Cust_freq_count, color=color[1])\n",
    "# plt.ylabel(\"Count\", fontsize=12)\n",
    "# plt.xlabel(\"Freq_Flag\", fontsize=12)\n",
    "# plt.xticks(rotation=\"vertical\")\n",
    "# plt.title(\"Frequency of Freq_Flag\", fontsize=15)\n",
    "# plt.show()\n",
    "\n",
    "#recency\n",
    "def f(row):\n",
    "    if row[\"date\"] > 201701:\n",
    "        val = 5\n",
    "    elif row[\"date\"] <= 201701 and row[\"date\"] > 201608:\n",
    "        val = 4\n",
    "    elif row[\"date\"] <= 201608 and row[\"date\"] > 201603:\n",
    "        val = 3\n",
    "    elif row[\"date\"] <= 201603 and row[\"date\"] > 201510:\n",
    "        val = 2\n",
    "    else:\n",
    "        val = 1\n",
    "    return val\n",
    "\n",
    "data[\"Recency_Flag\"] = data.apply(f, axis=1)\n",
    "data_freq = data.groupby(\"customerID\",as_index=False)[\"Recency_Flag\"].max()\n",
    "data=pd.merge(data,data_freq,on=[\"customerID\"],how=\"left\")\n",
    "\n",
    "# plt.figure(figsize=(12,8))\n",
    "# sns.countplot(x=\"Recency_Flag\", data=data_freq, color=color[3])\n",
    "# plt.ylabel(\"Count\", fontsize=12)\n",
    "# plt.xlabel(\"Recency_Flag\", fontsize=12)\n",
    "# plt.xticks(rotation=\"vertical\")\n",
    "# plt.title(\"Frequency of Recency_Flag\", fontsize=15)\n",
    "# plt.show()\n",
    "\n",
    "\n",
    "Cust_monetary = data.groupby([\"customerID\"])[\"payment_amount_by_tender\"].sum().reset_index().sort_values(\"payment_amount_by_tender\", ascending=False)\n",
    "unique_price=Cust_monetary[[\"payment_amount_by_tender\"]].drop_duplicates()\n",
    "unique_price=unique_price[unique_price[\"payment_amount_by_tender\"] > 0]\n",
    "unique_price[\"monetary_Band\"] = pd.qcut(unique_price[\"payment_amount_by_tender\"], 5)\n",
    "unique_price=unique_price[[\"monetary_Band\"]].drop_duplicates()\n",
    "\n",
    "def f(row):\n",
    "    if row[\"payment_amount_by_tender\"] <= 5839:\n",
    "        val = 1\n",
    "    elif row[\"payment_amount_by_tender\"] > 5839 and row[\"payment_amount_by_tender\"] <= 11538:\n",
    "        val = 2\n",
    "    elif row[\"payment_amount_by_tender\"] > 11538 and row[\"payment_amount_by_tender\"] <= 17561:\n",
    "        val = 3\n",
    "    elif row[\"payment_amount_by_tender\"] > 17561 and row[\"payment_amount_by_tender\"] <= 29654:\n",
    "        val = 4\n",
    "    else:\n",
    "        val = 5\n",
    "    return val\n",
    "\n",
    "Cust_monetary[\"Monetary_Flag\"] = Cust_monetary.apply(f, axis=1)\n",
    "\n",
    "cust=pd.merge(Cust_freq_count,Cust_monetary[[\"customerID\",\"Monetary_Flag\"]],on=[\"customerID\"],how=\"left\")\n",
    "data=pd.merge(data,cust,on=[\"customerID\"],how=\"left\")\n",
    "df4=data[[\"customerID\",\"store_code\",\"Monetary_Flag\",\"Freq_Flag\",\"Recency_Flag_y\"]]"
   ]
  },
  {
   "cell_type": "code",
   "execution_count": null,
   "metadata": {
    "collapsed": true
   },
   "outputs": [],
   "source": [
    "# Extract freq,recency and monetary features for each store \n",
    "\n",
    "data=tender[tender[\"store_code\"]==2655]\n",
    "\n",
    "#freq\n",
    "Cust_freq=data[[\"date\",\"customerID\"]].drop_duplicates()\n",
    "\n",
    "Cust_freq_count=Cust_freq.groupby([\"customerID\"])[\"date\"].count().reset_index().sort_values(\"date\", ascending=False)\n",
    "\n",
    "\n",
    "def f(row):\n",
    "    if row[\"date\"] <= 3:\n",
    "        val = 1\n",
    "    elif row[\"date\"] >=4 and row[\"date\"] <= 8:\n",
    "        val = 2\n",
    "    elif row[\"date\"] > 8 and row[\"date\"] <= 11:\n",
    "        val = 3\n",
    "    else :\n",
    "        val = 4\n",
    "    return val\n",
    "Cust_freq_count[\"Freq_Flag\"] = Cust_freq_count.apply(f, axis=1)\n",
    "Cust_freq_count.drop([\"date\"],axis=1,inplace=True)\n",
    "\n",
    "# plt.figure(figsize=(12,8))\n",
    "# sns.countplot(x=\"Freq_Flag\", data=Cust_freq_count, color=color[1])\n",
    "# plt.ylabel(\"Count\", fontsize=12)\n",
    "# plt.xlabel(\"Freq_Flag\", fontsize=12)\n",
    "# plt.xticks(rotation=\"vertical\")\n",
    "# plt.title(\"Frequency of Freq_Flag\", fontsize=15)\n",
    "# plt.show()\n",
    "\n",
    "#recency\n",
    "def f(row):\n",
    "    if row[\"date\"] > 201701:\n",
    "        val = 5\n",
    "    elif row[\"date\"] <= 201701 and row[\"date\"] > 201608:\n",
    "        val = 4\n",
    "    elif row[\"date\"] <= 201608 and row[\"date\"] > 201603:\n",
    "        val = 3\n",
    "    elif row[\"date\"] <= 201603 and row[\"date\"] > 201510:\n",
    "        val = 2\n",
    "    else:\n",
    "        val = 1\n",
    "    return val\n",
    "\n",
    "data[\"Recency_Flag\"] = data.apply(f, axis=1)\n",
    "data_freq = data.groupby(\"customerID\",as_index=False)[\"Recency_Flag\"].max()\n",
    "data=pd.merge(data,data_freq,on=[\"customerID\"],how=\"left\")\n",
    "\n",
    "# plt.figure(figsize=(12,8))\n",
    "# sns.countplot(x=\"Recency_Flag\", data=data_freq, color=color[3])\n",
    "# plt.ylabel(\"Count\", fontsize=12)\n",
    "# plt.xlabel(\"Recency_Flag\", fontsize=12)\n",
    "# plt.xticks(rotation=\"vertical\")\n",
    "# plt.title(\"Frequency of Recency_Flag\", fontsize=15)\n",
    "# plt.show()\n",
    "\n",
    "\n",
    "Cust_monetary = data.groupby([\"customerID\"])[\"payment_amount_by_tender\"].sum().reset_index().sort_values(\"payment_amount_by_tender\", ascending=False)\n",
    "unique_price=Cust_monetary[[\"payment_amount_by_tender\"]].drop_duplicates()\n",
    "unique_price=unique_price[unique_price[\"payment_amount_by_tender\"] > 0]\n",
    "unique_price[\"monetary_Band\"] = pd.qcut(unique_price[\"payment_amount_by_tender\"], 5)\n",
    "unique_price=unique_price[[\"monetary_Band\"]].drop_duplicates()\n",
    "\n",
    "def f(row):\n",
    "    if row[\"payment_amount_by_tender\"] <= 3256:\n",
    "        val = 1\n",
    "    elif row[\"payment_amount_by_tender\"] > 3256 and row[\"payment_amount_by_tender\"] <= 7089:\n",
    "        val = 2\n",
    "    elif row[\"payment_amount_by_tender\"] > 7089 and row[\"payment_amount_by_tender\"] <= 12941:\n",
    "        val = 3\n",
    "    elif row[\"payment_amount_by_tender\"] > 12941 and row[\"payment_amount_by_tender\"] <= 23289:\n",
    "        val = 4\n",
    "    else:\n",
    "        val = 5\n",
    "    return val\n",
    "\n",
    "Cust_monetary[\"Monetary_Flag\"] = Cust_monetary.apply(f, axis=1)\n",
    "\n",
    "cust=pd.merge(Cust_freq_count,Cust_monetary[[\"customerID\",\"Monetary_Flag\"]],on=[\"customerID\"],how=\"left\")\n",
    "data=pd.merge(data,cust,on=[\"customerID\"],how=\"left\")\n",
    "df3=data[[\"customerID\",\"store_code\",\"Monetary_Flag\",\"Freq_Flag\",\"Recency_Flag_y\"]]"
   ]
  },
  {
   "cell_type": "code",
   "execution_count": null,
   "metadata": {
    "collapsed": true
   },
   "outputs": [],
   "source": [
    "# Extract freq,recency and monetary features for each store \n",
    "\n",
    "data=tender[tender[\"store_code\"]==2906]\n",
    "\n",
    "#freq\n",
    "Cust_freq=data[[\"date\",\"customerID\"]].drop_duplicates()\n",
    "\n",
    "Cust_freq_count=Cust_freq.groupby([\"customerID\"])[\"date\"].count().reset_index().sort_values(\"date\", ascending=False)\n",
    "\n",
    "\n",
    "def f(row):\n",
    "    if row[\"date\"] <= 3:\n",
    "        val = 1\n",
    "    elif row[\"date\"] >=4 and row[\"date\"] <= 8:\n",
    "        val = 2\n",
    "    elif row[\"date\"] > 8 and row[\"date\"] <= 11:\n",
    "        val = 3\n",
    "    else :\n",
    "        val = 4\n",
    "    return val\n",
    "Cust_freq_count[\"Freq_Flag\"] = Cust_freq_count.apply(f, axis=1)\n",
    "Cust_freq_count.drop([\"date\"],axis=1,inplace=True)\n",
    "\n",
    "# plt.figure(figsize=(12,8))\n",
    "# sns.countplot(x=\"Freq_Flag\", data=Cust_freq_count, color=color[1])\n",
    "# plt.ylabel(\"Count\", fontsize=12)\n",
    "# plt.xlabel(\"Freq_Flag\", fontsize=12)\n",
    "# plt.xticks(rotation=\"vertical\")\n",
    "# plt.title(\"Frequency of Freq_Flag\", fontsize=15)\n",
    "# plt.show()\n",
    "\n",
    "#recency\n",
    "def f(row):\n",
    "    if row[\"date\"] > 201701:\n",
    "        val = 5\n",
    "    elif row[\"date\"] <= 201701 and row[\"date\"] > 201608:\n",
    "        val = 4\n",
    "    elif row[\"date\"] <= 201608 and row[\"date\"] > 201603:\n",
    "        val = 3\n",
    "    elif row[\"date\"] <= 201603 and row[\"date\"] > 201510:\n",
    "        val = 2\n",
    "    else:\n",
    "        val = 1\n",
    "    return val\n",
    "\n",
    "data[\"Recency_Flag\"] = data.apply(f, axis=1)\n",
    "data_freq = data.groupby(\"customerID\",as_index=False)[\"Recency_Flag\"].max()\n",
    "data=pd.merge(data,data_freq,on=[\"customerID\"],how=\"left\")\n",
    "\n",
    "# plt.figure(figsize=(12,8))\n",
    "# sns.countplot(x=\"Recency_Flag\", data=data_freq, color=color[3])\n",
    "# plt.ylabel(\"Count\", fontsize=12)\n",
    "# plt.xlabel(\"Recency_Flag\", fontsize=12)\n",
    "# plt.xticks(rotation=\"vertical\")\n",
    "# plt.title(\"Frequency of Recency_Flag\", fontsize=15)\n",
    "# plt.show()\n",
    "\n",
    "\n",
    "Cust_monetary = data.groupby([\"customerID\"])[\"payment_amount_by_tender\"].sum().reset_index().sort_values(\"payment_amount_by_tender\", ascending=False)\n",
    "unique_price=Cust_monetary[[\"payment_amount_by_tender\"]].drop_duplicates()\n",
    "unique_price=unique_price[unique_price[\"payment_amount_by_tender\"] > 0]\n",
    "unique_price[\"monetary_Band\"] = pd.qcut(unique_price[\"payment_amount_by_tender\"], 5)\n",
    "unique_price=unique_price[[\"monetary_Band\"]].drop_duplicates()\n",
    "\n",
    "def f(row):\n",
    "    if row[\"payment_amount_by_tender\"] <= 1412:\n",
    "        val = 1\n",
    "    elif row[\"payment_amount_by_tender\"] > 1412 and row[\"payment_amount_by_tender\"] <= 3493:\n",
    "        val = 2\n",
    "    elif row[\"payment_amount_by_tender\"] > 3493 and row[\"payment_amount_by_tender\"] <= 6600:\n",
    "        val = 3\n",
    "    elif row[\"payment_amount_by_tender\"] > 6600 and row[\"payment_amount_by_tender\"] <= 13396:\n",
    "        val = 4\n",
    "    else:\n",
    "        val = 5\n",
    "    return val\n",
    "\n",
    "Cust_monetary[\"Monetary_Flag\"] = Cust_monetary.apply(f, axis=1)\n",
    "\n",
    "cust=pd.merge(Cust_freq_count,Cust_monetary[[\"customerID\",\"Monetary_Flag\"]],on=[\"customerID\"],how=\"left\")\n",
    "data=pd.merge(data,cust,on=[\"customerID\"],how=\"left\")\n",
    "df2=data[[\"customerID\",\"store_code\",\"Monetary_Flag\",\"Freq_Flag\",\"Recency_Flag_y\"]]"
   ]
  },
  {
   "cell_type": "code",
   "execution_count": null,
   "metadata": {
    "collapsed": true
   },
   "outputs": [],
   "source": [
    "# Extract freq,recency and monetary features for each store \n",
    "\n",
    "data=tender[tender[\"store_code\"]==4986]\n",
    "\n",
    "#freq\n",
    "Cust_freq=data[[\"date\",\"customerID\"]].drop_duplicates()\n",
    "\n",
    "Cust_freq_count=Cust_freq.groupby([\"customerID\"])[\"date\"].count().reset_index().sort_values(\"date\", ascending=False)\n",
    "\n",
    "\n",
    "def f(row):\n",
    "    if row[\"date\"] <= 3:\n",
    "        val = 1\n",
    "    elif row[\"date\"] >=4 and row[\"date\"] <= 8:\n",
    "        val = 2\n",
    "    elif row[\"date\"] > 8 and row[\"date\"] <= 11:\n",
    "        val = 3\n",
    "    else :\n",
    "        val = 4\n",
    "    return val\n",
    "Cust_freq_count[\"Freq_Flag\"] = Cust_freq_count.apply(f, axis=1)\n",
    "Cust_freq_count.drop([\"date\"],axis=1,inplace=True)\n",
    "\n",
    "# plt.figure(figsize=(12,8))\n",
    "# sns.countplot(x=\"Freq_Flag\", data=Cust_freq_count, color=color[1])\n",
    "# plt.ylabel(\"Count\", fontsize=12)\n",
    "# plt.xlabel(\"Freq_Flag\", fontsize=12)\n",
    "# plt.xticks(rotation=\"vertical\")\n",
    "# plt.title(\"Frequency of Freq_Flag\", fontsize=15)\n",
    "# plt.show()\n",
    "\n",
    "#recency\n",
    "def f(row):\n",
    "    if row[\"date\"] > 201701:\n",
    "        val = 5\n",
    "    elif row[\"date\"] <= 201701 and row[\"date\"] > 201608:\n",
    "        val = 4\n",
    "    elif row[\"date\"] <= 201608 and row[\"date\"] > 201603:\n",
    "        val = 3\n",
    "    elif row[\"date\"] <= 201603 and row[\"date\"] > 201510:\n",
    "        val = 2\n",
    "    else:\n",
    "        val = 1\n",
    "    return val\n",
    "\n",
    "data[\"Recency_Flag\"] = data.apply(f, axis=1)\n",
    "data_freq = data.groupby(\"customerID\",as_index=False)[\"Recency_Flag\"].max()\n",
    "data=pd.merge(data,data_freq,on=[\"customerID\"],how=\"left\")\n",
    "\n",
    "# plt.figure(figsize=(12,8))\n",
    "# sns.countplot(x=\"Recency_Flag\", data=data_freq, color=color[3])\n",
    "# plt.ylabel(\"Count\", fontsize=12)\n",
    "# plt.xlabel(\"Recency_Flag\", fontsize=12)\n",
    "# plt.xticks(rotation=\"vertical\")\n",
    "# plt.title(\"Frequency of Recency_Flag\", fontsize=15)\n",
    "# plt.show()\n",
    "\n",
    "\n",
    "Cust_monetary = data.groupby([\"customerID\"])[\"payment_amount_by_tender\"].sum().reset_index().sort_values(\"payment_amount_by_tender\", ascending=False)\n",
    "unique_price=Cust_monetary[[\"payment_amount_by_tender\"]].drop_duplicates()\n",
    "unique_price=unique_price[unique_price[\"payment_amount_by_tender\"] > 0]\n",
    "unique_price[\"monetary_Band\"] = pd.qcut(unique_price[\"payment_amount_by_tender\"], 5)\n",
    "unique_price=unique_price[[\"monetary_Band\"]].drop_duplicates()\n",
    "\n",
    "def f(row):\n",
    "    if row[\"payment_amount_by_tender\"] <= 5937:\n",
    "        val = 1\n",
    "    elif row[\"payment_amount_by_tender\"] > 5937 and row[\"payment_amount_by_tender\"] <= 12718:\n",
    "        val = 2\n",
    "    elif row[\"payment_amount_by_tender\"] > 12718 and row[\"payment_amount_by_tender\"] <= 21318:\n",
    "        val = 3\n",
    "    elif row[\"payment_amount_by_tender\"] > 21318 and row[\"payment_amount_by_tender\"] <= 39306:\n",
    "        val = 4\n",
    "    else:\n",
    "        val = 5\n",
    "    return val\n",
    "Cust_monetary[\"Monetary_Flag\"] = Cust_monetary.apply(f, axis=1)\n",
    "\n",
    "cust=pd.merge(Cust_freq_count,Cust_monetary[[\"customerID\",\"Monetary_Flag\"]],on=[\"customerID\"],how=\"left\")\n",
    "data=pd.merge(data,cust,on=[\"customerID\"],how=\"left\")\n",
    "df1=data[[\"customerID\",\"store_code\",\"Monetary_Flag\",\"Freq_Flag\",\"Recency_Flag_y\"]]"
   ]
  },
  {
   "cell_type": "code",
   "execution_count": null,
   "metadata": {
    "collapsed": true
   },
   "outputs": [],
   "source": [
    "\n",
    "Cust_freq=data[[\"date\",\"customerID\"]].drop_duplicates()\n",
    "\n",
    "Cust_freq_count=Cust_freq.groupby([\"customerID\"])[\"date\"].count().reset_index().sort_values(\"date\", ascending=False)\n",
    "\n",
    "\n",
    "def f(row):\n",
    "    if row[\"date\"] <= 5:\n",
    "        val = 3\n",
    "    elif row[\"date\"] >=5 and row[\"date\"] <= 10:\n",
    "        val = 2\n",
    "    else :\n",
    "        val = 1\n",
    "    return val\n",
    "Cust_freq_count[\"Freq_Flag\"] = Cust_freq_count.apply(f, axis=1)\n",
    "Cust_freq_count.drop([\"date\"],axis=1,inplace=True)\n",
    "\n",
    "\n",
    "Cust_recn=data[[\"date\",\"customerID\"]].drop_duplicates()\n",
    "def f(row):\n",
    "    if row[\"date\"] >= 201612:\n",
    "        val = 1\n",
    "    elif row[\"date\"] < 201612 and row[\"date\"] > 201604:\n",
    "        val = 2\n",
    "    elif row[\"date\"] <= 201604 and row[\"date\"] > 201512:  \n",
    "        val=3\n",
    "    else: \n",
    "        val = 4\n",
    "    return val\n",
    "\n",
    "Cust_recn[\"Recency_Flag\"] = Cust_recn.apply(f, axis=1)\n",
    "data_freq = Cust_recn.groupby(\"customerID\",as_index=False)[\"Recency_Flag\"].max()\n",
    "\n",
    "\n",
    "\n",
    "Cust_monetary = data.groupby([\"customerID\"])[\"payment_amount_by_tender\"].sum().reset_index().sort_values(\"payment_amount_by_tender\", ascending=False)\n",
    "unique_price=Cust_monetary[[\"payment_amount_by_tender\"]].drop_duplicates()\n",
    "unique_price=unique_price[unique_price[\"payment_amount_by_tender\"] > 0]\n",
    "unique_price[\"monetary_Band\"] = pd.qcut(unique_price[\"payment_amount_by_tender\"], 5)\n",
    "unique_price=unique_price[[\"monetary_Band\"]].drop_duplicates()\n",
    "\n",
    "\n",
    "def f(row):\n",
    "    if row[\"payment_amount_by_tender\"] <= 11000:\n",
    "        val = 3\n",
    "    elif row[\"payment_amount_by_tender\"] > 11000 and row[\"payment_amount_by_tender\"] <= 23000:\n",
    "        val = 2\n",
    "    else:\n",
    "        val = 1\n",
    "    return val\n",
    "Cust_monetary[\"Monetary_Flag\"] = Cust_monetary.apply(f, axis=1)\n",
    "Cust_monetary.drop([\"payment_amount_by_tender\"],axis=1,inplace=True)\n",
    "\n",
    "data_freq=data_freq.merge(Cust_monetary,on=[\"customerID\"],how='left')\n",
    "train=data_freq.merge(Cust_freq_count,on=[\"customerID\"],how='left')"
   ]
  },
  {
   "cell_type": "code",
   "execution_count": null,
   "metadata": {
    "collapsed": true
   },
   "outputs": [],
   "source": [
    "prods[\"store_code\"].unique()"
   ]
  },
  {
   "cell_type": "code",
   "execution_count": null,
   "metadata": {
    "collapsed": true
   },
   "outputs": [],
   "source": [
    "df1=df1.drop_duplicates()\n",
    "df2=df2.drop_duplicates()\n",
    "df3=df3.drop_duplicates()\n",
    "df4=df4.drop_duplicates()\n",
    "df5=df5.drop_duplicates()\n",
    "df6=df6.drop_duplicates()\n",
    "df7=df7.drop_duplicates()"
   ]
  },
  {
   "cell_type": "code",
   "execution_count": null,
   "metadata": {
    "collapsed": true
   },
   "outputs": [],
   "source": [
    "[['customerID','store_code','Gender','DOB']]"
   ]
  },
  {
   "cell_type": "code",
   "execution_count": null,
   "metadata": {
    "collapsed": true
   },
   "outputs": [],
   "source": [
    "check1=prods[prods[\"store_code\"]==4986][['customerID','store_code']]\n",
    "check2=prods[prods[\"store_code\"]==2906][['customerID','store_code']]\n",
    "check3=prods[prods[\"store_code\"]==2655][['customerID','store_code']]\n",
    "check4=prods[prods[\"store_code\"]==2615][['customerID','store_code']]\n",
    "check5=prods[prods[\"store_code\"]==3692][['customerID','store_code']]\n",
    "check6=prods[prods[\"store_code\"]==4843][['customerID','store_code']]\n",
    "check7=prods[prods[\"store_code\"]==4796][['customerID','store_code']]"
   ]
  },
  {
   "cell_type": "code",
   "execution_count": null,
   "metadata": {
    "collapsed": true
   },
   "outputs": [],
   "source": [
    "test1=pd.merge(check1,df1,on=['customerID','store_code'],how='left')\n",
    "test2=pd.merge(check2,df2,on=['customerID','store_code'],how='left')\n",
    "test3=pd.merge(check3,df3,on=['customerID','store_code'],how='left')\n",
    "test4=pd.merge(check4,df4,on=['customerID','store_code'],how='left')\n",
    "test5=pd.merge(check5,df5,on=['customerID','store_code'],how='left')\n",
    "test6=pd.merge(check6,df6,on=['customerID','store_code'],how='left')\n",
    "test7=pd.merge(check7,df7,on=['customerID','store_code'],how='left')\n"
   ]
  },
  {
   "cell_type": "code",
   "execution_count": null,
   "metadata": {
    "collapsed": true
   },
   "outputs": [],
   "source": [
    "test=pd.DataFrame()"
   ]
  },
  {
   "cell_type": "code",
   "execution_count": null,
   "metadata": {
    "collapsed": true
   },
   "outputs": [],
   "source": [
    "test=test.append(test1)\n",
    "test=test.append(test2)\n",
    "test=test.append(test3)\n",
    "test=test.append(test4)\n",
    "test=test.append(test5)\n",
    "test=test.append(test6)\n",
    "test=test.append(test7)"
   ]
  },
  {
   "cell_type": "code",
   "execution_count": null,
   "metadata": {
    "collapsed": true
   },
   "outputs": [],
   "source": [
    "test=test.fillna(0)"
   ]
  },
  {
   "cell_type": "code",
   "execution_count": null,
   "metadata": {
    "collapsed": true
   },
   "outputs": [],
   "source": [
    "data=tender.copy(deep=True)"
   ]
  },
  {
   "cell_type": "code",
   "execution_count": null,
   "metadata": {
    "collapsed": true
   },
   "outputs": [],
   "source": [
    "df=prods[[\"customerID\",\"store_code\"]]"
   ]
  },
  {
   "cell_type": "code",
   "execution_count": null,
   "metadata": {
    "collapsed": true
   },
   "outputs": [],
   "source": [
    "train=df.merge(train,on=[\"customerID\"],how='left')"
   ]
  },
  {
   "cell_type": "code",
   "execution_count": null,
   "metadata": {
    "collapsed": true
   },
   "outputs": [],
   "source": [
    "train=train.fillna(0)"
   ]
  },
  {
   "cell_type": "code",
   "execution_count": null,
   "metadata": {
    "collapsed": true
   },
   "outputs": [],
   "source": [
    "# Now cluster the customers into 34 clusters\n",
    "\n",
    "cld=train.drop(['store_code','customerID'], axis=1)\n",
    "rbs = RobustScaler()\n",
    "cld2 = rbs.fit_transform(cld)\n",
    "    \n",
    "km1 = KMeans(n_clusters=34)\n",
    "km2 = km1.fit(cld2)\n",
    "label = km2.predict(cld2)\n",
    "silhouette_score(cld2, label)"
   ]
  },
  {
   "cell_type": "code",
   "execution_count": null,
   "metadata": {
    "collapsed": true
   },
   "outputs": [],
   "source": [
    "customers=train[\"customerID\"]\n",
    "store=train[\"store_code\"]"
   ]
  },
  {
   "cell_type": "code",
   "execution_count": null,
   "metadata": {
    "collapsed": true
   },
   "outputs": [],
   "source": [
    "sub1 = pd.DataFrame({'customerID':customers, 'store_code':store, 'cluster':label},)"
   ]
  },
  {
   "cell_type": "code",
   "execution_count": null,
   "metadata": {
    "collapsed": true
   },
   "outputs": [],
   "source": [
    "cols=['customerID','store_code','cluster']"
   ]
  },
  {
   "cell_type": "code",
   "execution_count": null,
   "metadata": {
    "collapsed": true
   },
   "outputs": [],
   "source": [
    "sub1=sub1[cols]"
   ]
  },
  {
   "cell_type": "code",
   "execution_count": null,
   "metadata": {
    "collapsed": true
   },
   "outputs": [],
   "source": [
    "np.savetxt('/Users/shashank/Desktop/sub/subOne_5.txt', cld2)\n",
    "sub1.to_csv('/Users/shashank/Desktop/sub/subtwo_5.csv', index=False)"
   ]
  }
 ],
 "metadata": {
  "kernelspec": {
   "display_name": "Python 2",
   "language": "python",
   "name": "python2"
  },
  "language_info": {
   "codemirror_mode": {
    "name": "ipython",
    "version": 2
   },
   "file_extension": ".py",
   "mimetype": "text/x-python",
   "name": "python",
   "nbconvert_exporter": "python",
   "pygments_lexer": "ipython2",
   "version": "2.7.14"
  }
 },
 "nbformat": 4,
 "nbformat_minor": 2
}
